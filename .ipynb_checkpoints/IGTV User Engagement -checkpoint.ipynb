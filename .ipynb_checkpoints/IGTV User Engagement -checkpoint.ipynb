{
 "cells": [
  {
   "cell_type": "markdown",
   "id": "70505c00",
   "metadata": {},
   "source": [
    "# Problem Definition"
   ]
  },
  {
   "cell_type": "code",
   "execution_count": 20,
   "id": "61e4b6bf",
   "metadata": {},
   "outputs": [],
   "source": [
    "#Measuring the success of IGTV as a product with focus on, User Growth and Aoption metrics. Here will answer the following;\n",
    "#a. User Registration - This metric helps gauge the initial interest and adoption of IGTV among Instagram users.\n",
    "#b. Active Users - Monitor the percentage of Instagram users who engage with IGTV regularly\n",
    "#c. User Retention - Analyze the rate at which users continue to use IGTV over time\n"
   ]
  },
  {
   "cell_type": "markdown",
   "id": "67862a2c",
   "metadata": {},
   "source": [
    "# Data Collection and Exploration"
   ]
  },
  {
   "cell_type": "code",
   "execution_count": 21,
   "id": "71fbfee4",
   "metadata": {},
   "outputs": [
    {
     "data": {
      "text/plain": [
       "'C:\\\\Users\\\\admin\\\\Desktop\\\\Personal stuff\\\\LUX ACADEMY-BOOTCAMP\\\\WEEK 1\\\\PROJECT'"
      ]
     },
     "execution_count": 21,
     "metadata": {},
     "output_type": "execute_result"
    }
   ],
   "source": [
    "pwd"
   ]
  },
  {
   "cell_type": "code",
   "execution_count": 39,
   "id": "9c352fac",
   "metadata": {},
   "outputs": [],
   "source": [
    "#import required libraries\n",
    "import pandas as pd\n",
    "import matplotlib.pyplot as plt\n",
    "import seaborn as sns\n",
    "from sklearn.preprocessing import OneHotEncoder\n",
    "from sklearn.model_selection import train_test_split\n",
    "from sklearn.preprocessing import StandardScaler, LabelEncoder\n",
    "\n"
   ]
  },
  {
   "cell_type": "code",
   "execution_count": 40,
   "id": "ade309c5",
   "metadata": {},
   "outputs": [
    {
     "name": "stdout",
     "output_type": "stream",
     "text": [
      "<class 'pandas.core.frame.DataFrame'>\n",
      "RangeIndex: 1000 entries, 0 to 999\n",
      "Data columns (total 16 columns):\n",
      " #   Column              Non-Null Count  Dtype  \n",
      "---  ------              --------------  -----  \n",
      " 0   id                  1000 non-null   int64  \n",
      " 1   first_name          1000 non-null   object \n",
      " 2   last_name           1000 non-null   object \n",
      " 3   email               1000 non-null   object \n",
      " 4   gender              1000 non-null   object \n",
      " 5   ip_address          1000 non-null   object \n",
      " 6   user_id             1000 non-null   int64  \n",
      " 7   registration_date   1000 non-null   object \n",
      " 8   engagement_level    1000 non-null   object \n",
      " 9   adoption_status     1000 non-null   object \n",
      " 10  watch_time          1000 non-null   float64\n",
      " 11  likes               1000 non-null   int64  \n",
      " 12  comments            1000 non-null   int64  \n",
      " 13  followers           1000 non-null   int64  \n",
      " 14  share_count         1000 non-null   int64  \n",
      " 15  last_activity_date  1000 non-null   object \n",
      "dtypes: float64(1), int64(6), object(9)\n",
      "memory usage: 125.1+ KB\n",
      "None\n"
     ]
    }
   ],
   "source": [
    "# Load the dataset\n",
    "df = pd.read_csv('IGTV_user_engagement.csv')\n",
    "\n",
    "# Explore the dataset\n",
    "print(df.info())"
   ]
  },
  {
   "cell_type": "code",
   "execution_count": 41,
   "id": "732a29c3",
   "metadata": {},
   "outputs": [
    {
     "name": "stdout",
     "output_type": "stream",
     "text": [
      "   id first_name last_name                 email  gender       ip_address  \\\n",
      "0   1      Ivett    Hayman      ihayman0@who.int  Female     239.9.95.248   \n",
      "1   2      Wally    Chaize    wchaize1@wired.com  Female  154.139.215.113   \n",
      "2   3     Trisha    Slixby      tslixby2@bbb.org  Female    254.167.141.6   \n",
      "3   4       Lari   Cobello  lcobello3@ustream.tv  Female  236.244.110.208   \n",
      "4   5      Emera     Myles        emyles4@goo.gl  Female  148.173.233.227   \n",
      "\n",
      "   user_id registration_date engagement_level    adoption_status  watch_time  \\\n",
      "0        1        12/23/2010             high        not adopted      305.42   \n",
      "1        2         5/30/2011           medium        not adopted      892.42   \n",
      "2        3         5/21/2015           medium      fully adopted      765.31   \n",
      "3        4         9/25/2021              low  partially adopted      452.38   \n",
      "4        5          2/5/2021             high      fully adopted      323.80   \n",
      "\n",
      "   likes  comments  followers  share_count last_activity_date  \n",
      "0     91        20       3130           88         10/25/2022  \n",
      "1     70        29        415           29          4/29/2021  \n",
      "2     19        37       1009            7          3/17/2020  \n",
      "3     49        35        368           21          2/10/2020  \n",
      "4     27        14       8065           68          4/16/2021  \n"
     ]
    }
   ],
   "source": [
    "#show the first 5 rows of the data\n",
    "print(df.head(5))"
   ]
  },
  {
   "cell_type": "code",
   "execution_count": 42,
   "id": "3577fd9d",
   "metadata": {},
   "outputs": [
    {
     "name": "stdout",
     "output_type": "stream",
     "text": [
      "       id first_name  last_name                     email    gender  \\\n",
      "995   996      Marti    Pohling  mpohlingrn@artisteer.com    Female   \n",
      "996   997     Elysha  Tremoulet      etremouletro@umn.edu    Female   \n",
      "997   998     Saidee     Cumbes        scumbesrp@xrea.com   Agender   \n",
      "998   999     Ashbey     Atmore         aatmorerq@irs.gov      Male   \n",
      "999  1000        Art    Nannini      ananninirr@alexa.com  Bigender   \n",
      "\n",
      "          ip_address  user_id registration_date engagement_level  \\\n",
      "995      54.103.29.0      996          2/1/2022             high   \n",
      "996     247.32.94.22      997          6/1/2018              low   \n",
      "997  114.108.100.179      998         1/29/2015              low   \n",
      "998   99.255.174.249      999          6/4/2019             high   \n",
      "999  188.163.169.155     1000         5/20/2014           medium   \n",
      "\n",
      "       adoption_status  watch_time  likes  comments  followers  share_count  \\\n",
      "995  partially adopted      111.05     27        19       1712           32   \n",
      "996  partially adopted      279.77     54        16       2045           71   \n",
      "997      fully adopted      402.72     86         1       3405           28   \n",
      "998      fully adopted      266.86     38        23       2199           26   \n",
      "999        not adopted      960.15     79        38       9427           60   \n",
      "\n",
      "    last_activity_date  \n",
      "995         12/28/2021  \n",
      "996          2/25/2021  \n",
      "997          6/13/2022  \n",
      "998          6/26/2020  \n",
      "999          4/17/2022  \n"
     ]
    }
   ],
   "source": [
    "#show the last 5 rows of the data\n",
    "print(df.tail(5))"
   ]
  },
  {
   "cell_type": "code",
   "execution_count": 43,
   "id": "6452adb8",
   "metadata": {},
   "outputs": [
    {
     "name": "stdout",
     "output_type": "stream",
     "text": [
      "                id      user_id   watch_time        likes     comments  \\\n",
      "count  1000.000000  1000.000000  1000.000000  1000.000000  1000.000000   \n",
      "mean    500.500000   500.500000   509.556930    49.066000    25.959000   \n",
      "std     288.819436   288.819436   286.404102    29.356012    14.767105   \n",
      "min       1.000000     1.000000     0.180000     0.000000     0.000000   \n",
      "25%     250.750000   250.750000   275.032500    24.000000    14.000000   \n",
      "50%     500.500000   500.500000   510.725000    48.000000    26.000000   \n",
      "75%     750.250000   750.250000   768.370000    75.000000    39.000000   \n",
      "max    1000.000000  1000.000000   999.530000   100.000000    50.000000   \n",
      "\n",
      "         followers  share_count  \n",
      "count  1000.000000  1000.000000  \n",
      "mean   5141.793000    49.422000  \n",
      "std    2909.775166    29.201278  \n",
      "min       9.000000     0.000000  \n",
      "25%    2614.250000    24.000000  \n",
      "50%    5182.500000    49.000000  \n",
      "75%    7658.250000    74.000000  \n",
      "max    9995.000000   100.000000  \n"
     ]
    }
   ],
   "source": [
    "#display the numerical standard calculations of numerical values\n",
    "print(df.describe())"
   ]
  },
  {
   "cell_type": "code",
   "execution_count": 44,
   "id": "c7938880",
   "metadata": {},
   "outputs": [
    {
     "data": {
      "text/plain": [
       "<Figure size 1200x600 with 0 Axes>"
      ]
     },
     "execution_count": 44,
     "metadata": {},
     "output_type": "execute_result"
    },
    {
     "data": {
      "text/plain": [
       "<Figure size 1200x600 with 0 Axes>"
      ]
     },
     "metadata": {},
     "output_type": "display_data"
    }
   ],
   "source": [
    "# Data Visualization for User Growth and Adoption Metrics\n",
    "plt.figure(figsize=(12, 6))"
   ]
  },
  {
   "cell_type": "code",
   "execution_count": null,
   "id": "3f6a968d",
   "metadata": {},
   "outputs": [],
   "source": []
  },
  {
   "cell_type": "markdown",
   "id": "a8f88f22",
   "metadata": {},
   "source": [
    "# Exploratory Data Analysis"
   ]
  },
  {
   "cell_type": "code",
   "execution_count": 45,
   "id": "7eea41b1",
   "metadata": {},
   "outputs": [
    {
     "data": {
      "text/html": [
       "<div>\n",
       "<style scoped>\n",
       "    .dataframe tbody tr th:only-of-type {\n",
       "        vertical-align: middle;\n",
       "    }\n",
       "\n",
       "    .dataframe tbody tr th {\n",
       "        vertical-align: top;\n",
       "    }\n",
       "\n",
       "    .dataframe thead th {\n",
       "        text-align: right;\n",
       "    }\n",
       "</style>\n",
       "<table border=\"1\" class=\"dataframe\">\n",
       "  <thead>\n",
       "    <tr style=\"text-align: right;\">\n",
       "      <th></th>\n",
       "      <th>id</th>\n",
       "      <th>first_name</th>\n",
       "      <th>last_name</th>\n",
       "      <th>email</th>\n",
       "      <th>gender</th>\n",
       "      <th>ip_address</th>\n",
       "      <th>user_id</th>\n",
       "      <th>registration_date</th>\n",
       "      <th>engagement_level</th>\n",
       "      <th>adoption_status</th>\n",
       "      <th>watch_time</th>\n",
       "      <th>likes</th>\n",
       "      <th>comments</th>\n",
       "      <th>followers</th>\n",
       "      <th>share_count</th>\n",
       "      <th>last_activity_date</th>\n",
       "    </tr>\n",
       "  </thead>\n",
       "  <tbody>\n",
       "    <tr>\n",
       "      <th>0</th>\n",
       "      <td>1</td>\n",
       "      <td>Ivett</td>\n",
       "      <td>Hayman</td>\n",
       "      <td>ihayman0@who.int</td>\n",
       "      <td>Female</td>\n",
       "      <td>239.9.95.248</td>\n",
       "      <td>1</td>\n",
       "      <td>12/23/2010</td>\n",
       "      <td>high</td>\n",
       "      <td>not adopted</td>\n",
       "      <td>305.42</td>\n",
       "      <td>91</td>\n",
       "      <td>20</td>\n",
       "      <td>3130</td>\n",
       "      <td>88</td>\n",
       "      <td>10/25/2022</td>\n",
       "    </tr>\n",
       "    <tr>\n",
       "      <th>1</th>\n",
       "      <td>2</td>\n",
       "      <td>Wally</td>\n",
       "      <td>Chaize</td>\n",
       "      <td>wchaize1@wired.com</td>\n",
       "      <td>Female</td>\n",
       "      <td>154.139.215.113</td>\n",
       "      <td>2</td>\n",
       "      <td>5/30/2011</td>\n",
       "      <td>medium</td>\n",
       "      <td>not adopted</td>\n",
       "      <td>892.42</td>\n",
       "      <td>70</td>\n",
       "      <td>29</td>\n",
       "      <td>415</td>\n",
       "      <td>29</td>\n",
       "      <td>4/29/2021</td>\n",
       "    </tr>\n",
       "    <tr>\n",
       "      <th>2</th>\n",
       "      <td>3</td>\n",
       "      <td>Trisha</td>\n",
       "      <td>Slixby</td>\n",
       "      <td>tslixby2@bbb.org</td>\n",
       "      <td>Female</td>\n",
       "      <td>254.167.141.6</td>\n",
       "      <td>3</td>\n",
       "      <td>5/21/2015</td>\n",
       "      <td>medium</td>\n",
       "      <td>fully adopted</td>\n",
       "      <td>765.31</td>\n",
       "      <td>19</td>\n",
       "      <td>37</td>\n",
       "      <td>1009</td>\n",
       "      <td>7</td>\n",
       "      <td>3/17/2020</td>\n",
       "    </tr>\n",
       "  </tbody>\n",
       "</table>\n",
       "</div>"
      ],
      "text/plain": [
       "   id first_name last_name               email  gender       ip_address  \\\n",
       "0   1      Ivett    Hayman    ihayman0@who.int  Female     239.9.95.248   \n",
       "1   2      Wally    Chaize  wchaize1@wired.com  Female  154.139.215.113   \n",
       "2   3     Trisha    Slixby    tslixby2@bbb.org  Female    254.167.141.6   \n",
       "\n",
       "   user_id registration_date engagement_level adoption_status  watch_time  \\\n",
       "0        1        12/23/2010             high     not adopted      305.42   \n",
       "1        2         5/30/2011           medium     not adopted      892.42   \n",
       "2        3         5/21/2015           medium   fully adopted      765.31   \n",
       "\n",
       "   likes  comments  followers  share_count last_activity_date  \n",
       "0     91        20       3130           88         10/25/2022  \n",
       "1     70        29        415           29          4/29/2021  \n",
       "2     19        37       1009            7          3/17/2020  "
      ]
     },
     "execution_count": 45,
     "metadata": {},
     "output_type": "execute_result"
    }
   ],
   "source": [
    "# Converting type of columns to category\n",
    "df['gender'] = df['gender'].astype('category')\n",
    "df['engagement_level'] = df['engagement_level'].astype('category')\n",
    "df['adoption_status'] = df['adoption_status'].astype('category')\n",
    "\n",
    "#display the first 3 columns\n",
    "df.head(3)"
   ]
  },
  {
   "cell_type": "code",
   "execution_count": 46,
   "id": "79b0a439",
   "metadata": {},
   "outputs": [
    {
     "name": "stdout",
     "output_type": "stream",
     "text": [
      "id                       int64\n",
      "first_name              object\n",
      "last_name               object\n",
      "email                   object\n",
      "gender                category\n",
      "ip_address              object\n",
      "user_id                  int64\n",
      "registration_date       object\n",
      "engagement_level      category\n",
      "adoption_status       category\n",
      "watch_time             float64\n",
      "likes                    int64\n",
      "comments                 int64\n",
      "followers                int64\n",
      "share_count              int64\n",
      "last_activity_date      object\n",
      "dtype: object\n"
     ]
    }
   ],
   "source": [
    "#show the different datatypes\n",
    "print(df.dtypes)"
   ]
  },
  {
   "cell_type": "code",
   "execution_count": 49,
   "id": "83bb7017",
   "metadata": {},
   "outputs": [
    {
     "ename": "ValueError",
     "evalue": "x and y must have same first dimension, but have shapes (1000,) and (0,)",
     "output_type": "error",
     "traceback": [
      "\u001b[1;31m---------------------------------------------------------------------------\u001b[0m",
      "\u001b[1;31mValueError\u001b[0m                                Traceback (most recent call last)",
      "Cell \u001b[1;32mIn[49], line 5\u001b[0m\n\u001b[0;32m      3\u001b[0m \u001b[38;5;66;03m# Assuming 'registration_date' is a datetime column in your DataFrame\u001b[39;00m\n\u001b[0;32m      4\u001b[0m plt\u001b[38;5;241m.\u001b[39mfigure(figsize\u001b[38;5;241m=\u001b[39m(\u001b[38;5;241m10\u001b[39m, \u001b[38;5;241m6\u001b[39m))\n\u001b[1;32m----> 5\u001b[0m \u001b[43mplt\u001b[49m\u001b[38;5;241;43m.\u001b[39;49m\u001b[43mplot\u001b[49m\u001b[43m(\u001b[49m\u001b[43mdf\u001b[49m\u001b[43m[\u001b[49m\u001b[38;5;124;43m'\u001b[39;49m\u001b[38;5;124;43mregistration_date\u001b[39;49m\u001b[38;5;124;43m'\u001b[39;49m\u001b[43m]\u001b[49m\u001b[43m,\u001b[49m\u001b[43m \u001b[49m\u001b[43mdf\u001b[49m\u001b[38;5;241;43m.\u001b[39;49m\u001b[43mgroupby\u001b[49m\u001b[43m(\u001b[49m\u001b[38;5;124;43m'\u001b[39;49m\u001b[38;5;124;43mregistration_date\u001b[39;49m\u001b[38;5;124;43m'\u001b[39;49m\u001b[43m)\u001b[49m\u001b[38;5;241;43m.\u001b[39;49m\u001b[43msize\u001b[49m\u001b[43m(\u001b[49m\u001b[43m)\u001b[49m\u001b[43m,\u001b[49m\u001b[43m \u001b[49m\u001b[43mmarker\u001b[49m\u001b[38;5;241;43m=\u001b[39;49m\u001b[38;5;124;43m'\u001b[39;49m\u001b[38;5;124;43mo\u001b[39;49m\u001b[38;5;124;43m'\u001b[39;49m\u001b[43m,\u001b[49m\u001b[43m \u001b[49m\u001b[43mlinestyle\u001b[49m\u001b[38;5;241;43m=\u001b[39;49m\u001b[38;5;124;43m'\u001b[39;49m\u001b[38;5;124;43m-\u001b[39;49m\u001b[38;5;124;43m'\u001b[39;49m\u001b[43m)\u001b[49m\n\u001b[0;32m      6\u001b[0m plt\u001b[38;5;241m.\u001b[39mtitle(\u001b[38;5;124m'\u001b[39m\u001b[38;5;124mUser Registration Over Time\u001b[39m\u001b[38;5;124m'\u001b[39m)\n\u001b[0;32m      7\u001b[0m plt\u001b[38;5;241m.\u001b[39mxlabel(\u001b[38;5;124m'\u001b[39m\u001b[38;5;124mDate\u001b[39m\u001b[38;5;124m'\u001b[39m)\n",
      "File \u001b[1;32m~\\anaconda3\\Lib\\site-packages\\matplotlib\\pyplot.py:2812\u001b[0m, in \u001b[0;36mplot\u001b[1;34m(scalex, scaley, data, *args, **kwargs)\u001b[0m\n\u001b[0;32m   2810\u001b[0m \u001b[38;5;129m@_copy_docstring_and_deprecators\u001b[39m(Axes\u001b[38;5;241m.\u001b[39mplot)\n\u001b[0;32m   2811\u001b[0m \u001b[38;5;28;01mdef\u001b[39;00m \u001b[38;5;21mplot\u001b[39m(\u001b[38;5;241m*\u001b[39margs, scalex\u001b[38;5;241m=\u001b[39m\u001b[38;5;28;01mTrue\u001b[39;00m, scaley\u001b[38;5;241m=\u001b[39m\u001b[38;5;28;01mTrue\u001b[39;00m, data\u001b[38;5;241m=\u001b[39m\u001b[38;5;28;01mNone\u001b[39;00m, \u001b[38;5;241m*\u001b[39m\u001b[38;5;241m*\u001b[39mkwargs):\n\u001b[1;32m-> 2812\u001b[0m     \u001b[38;5;28;01mreturn\u001b[39;00m \u001b[43mgca\u001b[49m\u001b[43m(\u001b[49m\u001b[43m)\u001b[49m\u001b[38;5;241;43m.\u001b[39;49m\u001b[43mplot\u001b[49m\u001b[43m(\u001b[49m\n\u001b[0;32m   2813\u001b[0m \u001b[43m        \u001b[49m\u001b[38;5;241;43m*\u001b[39;49m\u001b[43margs\u001b[49m\u001b[43m,\u001b[49m\u001b[43m \u001b[49m\u001b[43mscalex\u001b[49m\u001b[38;5;241;43m=\u001b[39;49m\u001b[43mscalex\u001b[49m\u001b[43m,\u001b[49m\u001b[43m \u001b[49m\u001b[43mscaley\u001b[49m\u001b[38;5;241;43m=\u001b[39;49m\u001b[43mscaley\u001b[49m\u001b[43m,\u001b[49m\n\u001b[0;32m   2814\u001b[0m \u001b[43m        \u001b[49m\u001b[38;5;241;43m*\u001b[39;49m\u001b[38;5;241;43m*\u001b[39;49m\u001b[43m(\u001b[49m\u001b[43m{\u001b[49m\u001b[38;5;124;43m\"\u001b[39;49m\u001b[38;5;124;43mdata\u001b[39;49m\u001b[38;5;124;43m\"\u001b[39;49m\u001b[43m:\u001b[49m\u001b[43m \u001b[49m\u001b[43mdata\u001b[49m\u001b[43m}\u001b[49m\u001b[43m \u001b[49m\u001b[38;5;28;43;01mif\u001b[39;49;00m\u001b[43m \u001b[49m\u001b[43mdata\u001b[49m\u001b[43m \u001b[49m\u001b[38;5;129;43;01mis\u001b[39;49;00m\u001b[43m \u001b[49m\u001b[38;5;129;43;01mnot\u001b[39;49;00m\u001b[43m \u001b[49m\u001b[38;5;28;43;01mNone\u001b[39;49;00m\u001b[43m \u001b[49m\u001b[38;5;28;43;01melse\u001b[39;49;00m\u001b[43m \u001b[49m\u001b[43m{\u001b[49m\u001b[43m}\u001b[49m\u001b[43m)\u001b[49m\u001b[43m,\u001b[49m\u001b[43m \u001b[49m\u001b[38;5;241;43m*\u001b[39;49m\u001b[38;5;241;43m*\u001b[39;49m\u001b[43mkwargs\u001b[49m\u001b[43m)\u001b[49m\n",
      "File \u001b[1;32m~\\anaconda3\\Lib\\site-packages\\matplotlib\\axes\\_axes.py:1688\u001b[0m, in \u001b[0;36mAxes.plot\u001b[1;34m(self, scalex, scaley, data, *args, **kwargs)\u001b[0m\n\u001b[0;32m   1445\u001b[0m \u001b[38;5;250m\u001b[39m\u001b[38;5;124;03m\"\"\"\u001b[39;00m\n\u001b[0;32m   1446\u001b[0m \u001b[38;5;124;03mPlot y versus x as lines and/or markers.\u001b[39;00m\n\u001b[0;32m   1447\u001b[0m \n\u001b[1;32m   (...)\u001b[0m\n\u001b[0;32m   1685\u001b[0m \u001b[38;5;124;03m(``'green'``) or hex strings (``'#008000'``).\u001b[39;00m\n\u001b[0;32m   1686\u001b[0m \u001b[38;5;124;03m\"\"\"\u001b[39;00m\n\u001b[0;32m   1687\u001b[0m kwargs \u001b[38;5;241m=\u001b[39m cbook\u001b[38;5;241m.\u001b[39mnormalize_kwargs(kwargs, mlines\u001b[38;5;241m.\u001b[39mLine2D)\n\u001b[1;32m-> 1688\u001b[0m lines \u001b[38;5;241m=\u001b[39m [\u001b[38;5;241m*\u001b[39m\u001b[38;5;28mself\u001b[39m\u001b[38;5;241m.\u001b[39m_get_lines(\u001b[38;5;241m*\u001b[39margs, data\u001b[38;5;241m=\u001b[39mdata, \u001b[38;5;241m*\u001b[39m\u001b[38;5;241m*\u001b[39mkwargs)]\n\u001b[0;32m   1689\u001b[0m \u001b[38;5;28;01mfor\u001b[39;00m line \u001b[38;5;129;01min\u001b[39;00m lines:\n\u001b[0;32m   1690\u001b[0m     \u001b[38;5;28mself\u001b[39m\u001b[38;5;241m.\u001b[39madd_line(line)\n",
      "File \u001b[1;32m~\\anaconda3\\Lib\\site-packages\\matplotlib\\axes\\_base.py:311\u001b[0m, in \u001b[0;36m_process_plot_var_args.__call__\u001b[1;34m(self, data, *args, **kwargs)\u001b[0m\n\u001b[0;32m    309\u001b[0m     this \u001b[38;5;241m+\u001b[39m\u001b[38;5;241m=\u001b[39m args[\u001b[38;5;241m0\u001b[39m],\n\u001b[0;32m    310\u001b[0m     args \u001b[38;5;241m=\u001b[39m args[\u001b[38;5;241m1\u001b[39m:]\n\u001b[1;32m--> 311\u001b[0m \u001b[38;5;28;01myield from\u001b[39;00m \u001b[38;5;28;43mself\u001b[39;49m\u001b[38;5;241;43m.\u001b[39;49m\u001b[43m_plot_args\u001b[49m\u001b[43m(\u001b[49m\n\u001b[0;32m    312\u001b[0m \u001b[43m    \u001b[49m\u001b[43mthis\u001b[49m\u001b[43m,\u001b[49m\u001b[43m \u001b[49m\u001b[43mkwargs\u001b[49m\u001b[43m,\u001b[49m\u001b[43m \u001b[49m\u001b[43mambiguous_fmt_datakey\u001b[49m\u001b[38;5;241;43m=\u001b[39;49m\u001b[43mambiguous_fmt_datakey\u001b[49m\u001b[43m)\u001b[49m\n",
      "File \u001b[1;32m~\\anaconda3\\Lib\\site-packages\\matplotlib\\axes\\_base.py:504\u001b[0m, in \u001b[0;36m_process_plot_var_args._plot_args\u001b[1;34m(self, tup, kwargs, return_kwargs, ambiguous_fmt_datakey)\u001b[0m\n\u001b[0;32m    501\u001b[0m     \u001b[38;5;28mself\u001b[39m\u001b[38;5;241m.\u001b[39maxes\u001b[38;5;241m.\u001b[39myaxis\u001b[38;5;241m.\u001b[39mupdate_units(y)\n\u001b[0;32m    503\u001b[0m \u001b[38;5;28;01mif\u001b[39;00m x\u001b[38;5;241m.\u001b[39mshape[\u001b[38;5;241m0\u001b[39m] \u001b[38;5;241m!=\u001b[39m y\u001b[38;5;241m.\u001b[39mshape[\u001b[38;5;241m0\u001b[39m]:\n\u001b[1;32m--> 504\u001b[0m     \u001b[38;5;28;01mraise\u001b[39;00m \u001b[38;5;167;01mValueError\u001b[39;00m(\u001b[38;5;124mf\u001b[39m\u001b[38;5;124m\"\u001b[39m\u001b[38;5;124mx and y must have same first dimension, but \u001b[39m\u001b[38;5;124m\"\u001b[39m\n\u001b[0;32m    505\u001b[0m                      \u001b[38;5;124mf\u001b[39m\u001b[38;5;124m\"\u001b[39m\u001b[38;5;124mhave shapes \u001b[39m\u001b[38;5;132;01m{\u001b[39;00mx\u001b[38;5;241m.\u001b[39mshape\u001b[38;5;132;01m}\u001b[39;00m\u001b[38;5;124m and \u001b[39m\u001b[38;5;132;01m{\u001b[39;00my\u001b[38;5;241m.\u001b[39mshape\u001b[38;5;132;01m}\u001b[39;00m\u001b[38;5;124m\"\u001b[39m)\n\u001b[0;32m    506\u001b[0m \u001b[38;5;28;01mif\u001b[39;00m x\u001b[38;5;241m.\u001b[39mndim \u001b[38;5;241m>\u001b[39m \u001b[38;5;241m2\u001b[39m \u001b[38;5;129;01mor\u001b[39;00m y\u001b[38;5;241m.\u001b[39mndim \u001b[38;5;241m>\u001b[39m \u001b[38;5;241m2\u001b[39m:\n\u001b[0;32m    507\u001b[0m     \u001b[38;5;28;01mraise\u001b[39;00m \u001b[38;5;167;01mValueError\u001b[39;00m(\u001b[38;5;124mf\u001b[39m\u001b[38;5;124m\"\u001b[39m\u001b[38;5;124mx and y can be no greater than 2D, but have \u001b[39m\u001b[38;5;124m\"\u001b[39m\n\u001b[0;32m    508\u001b[0m                      \u001b[38;5;124mf\u001b[39m\u001b[38;5;124m\"\u001b[39m\u001b[38;5;124mshapes \u001b[39m\u001b[38;5;132;01m{\u001b[39;00mx\u001b[38;5;241m.\u001b[39mshape\u001b[38;5;132;01m}\u001b[39;00m\u001b[38;5;124m and \u001b[39m\u001b[38;5;132;01m{\u001b[39;00my\u001b[38;5;241m.\u001b[39mshape\u001b[38;5;132;01m}\u001b[39;00m\u001b[38;5;124m\"\u001b[39m)\n",
      "\u001b[1;31mValueError\u001b[0m: x and y must have same first dimension, but have shapes (1000,) and (0,)"
     ]
    },
    {
     "data": {
      "image/png": "[encoded data removed]",
      "text/plain": [
       "<Figure size 1000x600 with 1 Axes>"
      ]
     },
     "metadata": {},
     "output_type": "display_data"
    }
   ],
   "source": [
    "import matplotlib.pyplot as plt\n",
    "\n",
    "# Assuming 'registration_date' is a datetime column in your DataFrame\n",
    "plt.figure(figsize=(10, 6))\n",
    "plt.plot(df['registration_date'], df.groupby('registration_date').size(), marker='o', linestyle='-')\n",
    "plt.title('User Registration Over Time')\n",
    "plt.xlabel('Date')\n",
    "plt.ylabel('Number of Registrations')\n",
    "plt.grid(True)\n",
    "plt.show()\n"
   ]
  },
  {
   "cell_type": "code",
   "execution_count": 36,
   "id": "98a0de98",
   "metadata": {},
   "outputs": [],
   "source": [
    "import pickle"
   ]
  },
  {
   "cell_type": "code",
   "execution_count": null,
   "id": "40f3939f",
   "metadata": {},
   "outputs": [],
   "source": [
    "pickle.dump(best_model, open)"
   ]
  }
 ],
 "metadata": {
  "kernelspec": {
   "display_name": "Python 3 (ipykernel)",
   "language": "python",
   "name": "python3"
  },
  "language_info": {
   "codemirror_mode": {
    "name": "ipython",
    "version": 3
   },
   "file_extension": ".py",
   "mimetype": "text/x-python",
   "name": "python",
   "nbconvert_exporter": "python",
   "pygments_lexer": "ipython3",
   "version": "3.11.3"
  }
 },
 "nbformat": 4,
 "nbformat_minor": 5
}
