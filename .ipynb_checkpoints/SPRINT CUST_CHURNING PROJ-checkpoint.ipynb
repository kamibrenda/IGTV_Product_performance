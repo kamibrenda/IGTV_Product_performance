{
 "cells": [
  {
   "cell_type": "markdown",
   "id": "8c7dd570",
   "metadata": {},
   "source": [
    "# Problem Definition"
   ]
  },
  {
   "cell_type": "code",
   "execution_count": null,
   "id": "7de4fe6d",
   "metadata": {},
   "outputs": [],
   "source": [
    "Determine the predictability of customer churning i.e rate at which customers leave of Spirit telcom company."
   ]
  },
  {
   "cell_type": "markdown",
   "id": "f18d363b",
   "metadata": {},
   "source": [
    "# Data Collection"
   ]
  },
  {
   "cell_type": "code",
   "execution_count": 1,
   "id": "feb19847",
   "metadata": {},
   "outputs": [
    {
     "data": {
      "text/plain": [
       "'C:\\\\Users\\\\admin\\\\Desktop\\\\Personal stuff\\\\LUX ACADEMY-BOOTCAMP\\\\WEEK 1\\\\PROJECT'"
      ]
     },
     "execution_count": 1,
     "metadata": {},
     "output_type": "execute_result"
    }
   ],
   "source": [
    "pwd"
   ]
  },
  {
   "cell_type": "code",
   "execution_count": 2,
   "id": "cf65609b",
   "metadata": {},
   "outputs": [],
   "source": [
    "import pandas as pd\n",
    "\n",
    "churn_dataset = pd.read_csv('SPRINT DATASET.csv')"
   ]
  },
  {
   "cell_type": "markdown",
   "id": "2facfd3f",
   "metadata": {},
   "source": [
    "# "
   ]
  }
 ],
 "metadata": {
  "kernelspec": {
   "display_name": "Python 3 (ipykernel)",
   "language": "python",
   "name": "python3"
  },
  "language_info": {
   "codemirror_mode": {
    "name": "ipython",
    "version": 3
   },
   "file_extension": ".py",
   "mimetype": "text/x-python",
   "name": "python",
   "nbconvert_exporter": "python",
   "pygments_lexer": "ipython3",
   "version": "3.11.3"
  }
 },
 "nbformat": 4,
 "nbformat_minor": 5
}
