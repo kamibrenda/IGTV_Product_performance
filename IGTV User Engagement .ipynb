{
 "cells": [
  {
   "cell_type": "markdown",
   "id": "70505c00",
   "metadata": {},
   "source": [
    "# Problem Definition"
   ]
  },
  {
   "cell_type": "code",
   "execution_count": 1,
   "id": "61e4b6bf",
   "metadata": {},
   "outputs": [],
   "source": [
    "#Measuring the success of IGTV as a product with focus on, User Growth and Aoption metrics. Here will answer the following;\n",
    "#a. User Registration - This metric helps gauge the initial interest and adoption of IGTV among Instagram users.\n",
    "#b. Active Users - Monitor the percentage of Instagram users who engage with IGTV regularly\n",
    "#c. User Retention - Analyze the rate at which users continue to use IGTV over time\n"
   ]
  },
  {
   "cell_type": "markdown",
   "id": "67862a2c",
   "metadata": {},
   "source": [
    "# Data Collection and Exploration"
   ]
  },
  {
   "cell_type": "code",
   "execution_count": 2,
   "id": "71fbfee4",
   "metadata": {},
   "outputs": [
    {
     "data": {
      "text/plain": [
       "'C:\\\\Users\\\\admin\\\\Desktop\\\\Personal stuff\\\\LUX ACADEMY-BOOTCAMP\\\\WEEK 1\\\\PROJECT'"
      ]
     },
     "execution_count": 2,
     "metadata": {},
     "output_type": "execute_result"
    }
   ],
   "source": [
    "pwd"
   ]
  },
  {
   "cell_type": "code",
   "execution_count": 3,
   "id": "9c352fac",
   "metadata": {},
   "outputs": [
    {
     "name": "stdout",
     "output_type": "stream",
     "text": [
      "<class 'pandas.core.frame.DataFrame'>\n",
      "RangeIndex: 1000 entries, 0 to 999\n",
      "Data columns (total 10 columns):\n",
      " #   Column              Non-Null Count  Dtype \n",
      "---  ------              --------------  ----- \n",
      " 0   user_id             1000 non-null   int64 \n",
      " 1   username            1000 non-null   object\n",
      " 2   engagement_level    1000 non-null   object\n",
      " 3   followers_count     1000 non-null   int64 \n",
      " 4   likes_count         1000 non-null   int64 \n",
      " 5   comments_count      1000 non-null   int64 \n",
      " 6   shares_count        1000 non-null   int64 \n",
      " 7   adoption_status     1000 non-null   object\n",
      " 8   watch_time_minutes  1000 non-null   int64 \n",
      " 9   last_login          1000 non-null   object\n",
      "dtypes: int64(6), object(4)\n",
      "memory usage: 78.3+ KB\n",
      "None\n"
     ]
    }
   ],
   "source": [
    "#import required libraries\n",
    "import pandas as pd\n",
    "import matplotlib.pyplot as plt\n",
    "import seaborn as sns\n",
    "\n",
    "# Load the dataset\n",
    "df = pd.read_csv('IGTV_user_engagement.csv')\n",
    "\n",
    "# Explore the dataset\n",
    "print(df.info())\n"
   ]
  },
  {
   "cell_type": "code",
   "execution_count": 4,
   "id": "732a29c3",
   "metadata": {},
   "outputs": [
    {
     "name": "stdout",
     "output_type": "stream",
     "text": [
      "   user_id      username engagement_level  followers_count  likes_count  \\\n",
      "0        1       lwilds0             high           780578         1538   \n",
      "1        2       ffoxen1              low            89812        17328   \n",
      "2        3  cstannering2           medium           147034        63943   \n",
      "3        4     hzanazzi3           medium           165835        29165   \n",
      "4        5      hladdle4              low           819726        81855   \n",
      "\n",
      "   comments_count  shares_count adoption_status  watch_time_minutes  \\\n",
      "0             990          7388         adopted                 485   \n",
      "1            4215          1668         adopted                1203   \n",
      "2            2268          2148     not adopted                1070   \n",
      "3            7989          4878         adopted                 274   \n",
      "4            5331          9561         adopted                 435   \n",
      "\n",
      "   last_login  \n",
      "0   12/6/2020  \n",
      "1   1/13/2020  \n",
      "2   4/27/2021  \n",
      "3   1/11/2021  \n",
      "4  11/10/2021  \n"
     ]
    }
   ],
   "source": [
    "#show the first 5 rows of the data\n",
    "print(df.head(5))"
   ]
  },
  {
   "cell_type": "code",
   "execution_count": 5,
   "id": "3577fd9d",
   "metadata": {},
   "outputs": [
    {
     "name": "stdout",
     "output_type": "stream",
     "text": [
      "     user_id      username engagement_level  followers_count  likes_count  \\\n",
      "995      996    selsburyrn             high           173270        38860   \n",
      "996      997   mtrickettro              low            57223        61896   \n",
      "997      998    bbillhamrp             high           306118        96164   \n",
      "998      999  cmcveightyrq           medium           301807        10802   \n",
      "999     1000      mthemlrr             high           795119        65857   \n",
      "\n",
      "     comments_count  shares_count adoption_status  watch_time_minutes  \\\n",
      "995            4331          9921         adopted                1249   \n",
      "996            1847          3866     not adopted                1432   \n",
      "997            6807          2605     not adopted                 709   \n",
      "998            9873          8198         adopted                1248   \n",
      "999            4582          9644         adopted                 346   \n",
      "\n",
      "    last_login  \n",
      "995   8/8/2020  \n",
      "996   2/1/2021  \n",
      "997   4/2/2020  \n",
      "998  3/10/2020  \n",
      "999  4/17/2020  \n"
     ]
    }
   ],
   "source": [
    "#show the last 5 rows of the data\n",
    "print(df.tail(5))"
   ]
  },
  {
   "cell_type": "code",
   "execution_count": 6,
   "id": "6452adb8",
   "metadata": {},
   "outputs": [
    {
     "name": "stdout",
     "output_type": "stream",
     "text": [
      "           user_id  followers_count   likes_count  comments_count  \\\n",
      "count  1000.000000      1000.000000   1000.000000     1000.000000   \n",
      "mean    500.500000    493050.795000  49675.413000     5027.859000   \n",
      "std     288.819436    290432.661768  29786.847795     2884.913685   \n",
      "min       1.000000       441.000000     76.000000        8.000000   \n",
      "25%     250.750000    234523.000000  22391.500000     2492.750000   \n",
      "50%     500.500000    496816.000000  48789.000000     5150.500000   \n",
      "75%     750.250000    742829.750000  76444.000000     7474.500000   \n",
      "max    1000.000000    999798.000000  99893.000000    10000.000000   \n",
      "\n",
      "       shares_count  watch_time_minutes  \n",
      "count   1000.000000         1000.000000  \n",
      "mean    4992.347000          721.888000  \n",
      "std     2920.839358          410.831445  \n",
      "min        3.000000            0.000000  \n",
      "25%     2400.250000          370.500000  \n",
      "50%     5000.500000          728.000000  \n",
      "75%     7481.250000         1061.500000  \n",
      "max     9999.000000         1438.000000  \n"
     ]
    }
   ],
   "source": [
    "#display the numerical standard calculations of numerical values\n",
    "print(df.describe())"
   ]
  },
  {
   "cell_type": "code",
   "execution_count": 14,
   "id": "c7938880",
   "metadata": {},
   "outputs": [
    {
     "data": {
      "text/plain": [
       "<Figure size 1200x600 with 0 Axes>"
      ]
     },
     "execution_count": 14,
     "metadata": {},
     "output_type": "execute_result"
    },
    {
     "data": {
      "text/plain": [
       "<Figure size 1200x600 with 0 Axes>"
      ]
     },
     "metadata": {},
     "output_type": "display_data"
    }
   ],
   "source": [
    "# Data Visualization for User Growth and Adoption Metrics\n",
    "plt.figure(figsize=(12, 6))"
   ]
  },
  {
   "cell_type": "code",
   "execution_count": 13,
   "id": "3f6a968d",
   "metadata": {},
   "outputs": [],
   "source": [
    "#Calculate the number of engagements per user\n",
    "engagement_counts = df.groupby('user_id')['watch_time_minutes'].count().reset_index()\n",
    "engagement_counts.rename(columns={'watch_time_minutes': 'engagement_count'}, inplace=True)"
   ]
  },
  {
   "cell_type": "markdown",
   "id": "a8f88f22",
   "metadata": {},
   "source": [
    "# Exploratory Data Analysis"
   ]
  },
  {
   "cell_type": "code",
   "execution_count": null,
   "id": "79b0a439",
   "metadata": {},
   "outputs": [],
   "source": []
  },
  {
   "cell_type": "code",
   "execution_count": 10,
   "id": "7eea41b1",
   "metadata": {},
   "outputs": [],
   "source": [
    "# 4. Calculate user retention\n",
    "registration_dates = df[df['action_type'] == 'registration'][['user_id', 'registration_date']]\n",
    "registration_dates.drop_duplicates(inplace=True)\n",
    "\n",
    "# Merge engagement counts with registration dates\n",
    "user_data = registration_dates.merge(engagement_counts, on='user_id', how='left')\n",
    "\n",
    "# Calculate the number of days since registration\n",
    "user_data['days_since_registration'] = (df['timestamp'].max() - user_data['registration_date']).dt.days\n",
    "\n",
    "# 5. Calculate the percentage of active users\n",
    "total_users = len(user_data)\n",
    "active_users = len(user_data[user_data['engagement_count'] > 0])\n",
    "percentage_active_users = (active_users / total_users) * 100\n",
    "\n",
    "# Display the results\n",
    "print(\"Total Users:\", total_users)\n",
    "print(\"Active Users:\", active_users)\n",
    "print(\"Percentage of Active Users:\", percentage_active_users, \"%\")"
   ]
  },
  {
   "cell_type": "code",
   "execution_count": 11,
   "id": "83bb7017",
   "metadata": {},
   "outputs": [],
   "source": [
    "import pickle"
   ]
  },
  {
   "cell_type": "code",
   "execution_count": null,
   "id": "40f3939f",
   "metadata": {},
   "outputs": [],
   "source": [
    "pickle.dump(best_model, open)"
   ]
  }
 ],
 "metadata": {
  "kernelspec": {
   "display_name": "Python 3 (ipykernel)",
   "language": "python",
   "name": "python3"
  },
  "language_info": {
   "codemirror_mode": {
    "name": "ipython",
    "version": 3
   },
   "file_extension": ".py",
   "mimetype": "text/x-python",
   "name": "python",
   "nbconvert_exporter": "python",
   "pygments_lexer": "ipython3",
   "version": "3.11.3"
  }
 },
 "nbformat": 4,
 "nbformat_minor": 5
}
